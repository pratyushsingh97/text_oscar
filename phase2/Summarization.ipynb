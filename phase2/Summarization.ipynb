{
 "cells": [
  {
   "cell_type": "code",
   "execution_count": 5,
   "metadata": {},
   "outputs": [
    {
     "data": {
      "text/plain": [
       "'\\nThis jupyter notebook scrapes the New York Times reviews, \\nutilizes Extractive Text Summarization to summarize the text and return to the user \\n'"
      ]
     },
     "execution_count": 5,
     "metadata": {},
     "output_type": "execute_result"
    }
   ],
   "source": [
    "# Written By: Pratyush Singh\n",
    "\n",
    "\"\"\"\n",
    "This jupyter notebook scrapes the New York Times reviews, \n",
    "utilizes Extractive Text Summarization to summarize the text and return to the user \n",
    "\"\"\"\n"
   ]
  },
  {
   "cell_type": "code",
   "execution_count": 6,
   "metadata": {},
   "outputs": [],
   "source": [
    "import pandas as pd\n",
    "import requests\n",
    "from bs4 import BeautifulSoup"
   ]
  },
  {
   "cell_type": "code",
   "execution_count": 7,
   "metadata": {},
   "outputs": [
    {
     "data": {
      "text/html": [
       "<div>\n",
       "<style scoped>\n",
       "    .dataframe tbody tr th:only-of-type {\n",
       "        vertical-align: middle;\n",
       "    }\n",
       "\n",
       "    .dataframe tbody tr th {\n",
       "        vertical-align: top;\n",
       "    }\n",
       "\n",
       "    .dataframe thead th {\n",
       "        text-align: right;\n",
       "    }\n",
       "</style>\n",
       "<table border=\"1\" class=\"dataframe\">\n",
       "  <thead>\n",
       "    <tr style=\"text-align: right;\">\n",
       "      <th></th>\n",
       "      <th>Unnamed: 0</th>\n",
       "      <th>movie_title</th>\n",
       "      <th>article_link</th>\n",
       "      <th>text</th>\n",
       "    </tr>\n",
       "  </thead>\n",
       "  <tbody>\n",
       "    <tr>\n",
       "      <th>0</th>\n",
       "      <td>0</td>\n",
       "      <td>Escape Room</td>\n",
       "      <td>http://www.nytimes.com/2019/01/03/movies/escap...</td>\n",
       "      <td>testing</td>\n",
       "    </tr>\n",
       "    <tr>\n",
       "      <th>1</th>\n",
       "      <td>1</td>\n",
       "      <td>Rust Creek</td>\n",
       "      <td>http://www.nytimes.com/2019/01/03/movies/rust-...</td>\n",
       "      <td>testing</td>\n",
       "    </tr>\n",
       "    <tr>\n",
       "      <th>2</th>\n",
       "      <td>2</td>\n",
       "      <td>American Hangman</td>\n",
       "      <td>-1</td>\n",
       "      <td>NaN</td>\n",
       "    </tr>\n",
       "    <tr>\n",
       "      <th>3</th>\n",
       "      <td>3</td>\n",
       "      <td>A Dogs Way Home</td>\n",
       "      <td>-1</td>\n",
       "      <td>NaN</td>\n",
       "    </tr>\n",
       "    <tr>\n",
       "      <th>4</th>\n",
       "      <td>4</td>\n",
       "      <td>The Upside</td>\n",
       "      <td>http://www.nytimes.com/2019/01/09/movies/the-u...</td>\n",
       "      <td>testing</td>\n",
       "    </tr>\n",
       "  </tbody>\n",
       "</table>\n",
       "</div>"
      ],
      "text/plain": [
       "   Unnamed: 0       movie_title  \\\n",
       "0           0       Escape Room   \n",
       "1           1        Rust Creek   \n",
       "2           2  American Hangman   \n",
       "3           3   A Dogs Way Home   \n",
       "4           4        The Upside   \n",
       "\n",
       "                                        article_link     text  \n",
       "0  http://www.nytimes.com/2019/01/03/movies/escap...  testing  \n",
       "1  http://www.nytimes.com/2019/01/03/movies/rust-...  testing  \n",
       "2                                                 -1      NaN  \n",
       "3                                                 -1      NaN  \n",
       "4  http://www.nytimes.com/2019/01/09/movies/the-u...  testing  "
      ]
     },
     "execution_count": 7,
     "metadata": {},
     "output_type": "execute_result"
    }
   ],
   "source": [
    "'''\n",
    "When scraping the links to the article (code for scraping in scrape.py), \n",
    "if a link was found then the text was placed with a dummy value of 'testing'.\n",
    "'''\n",
    "\n",
    "movies = pd.read_csv('nytimes.csv')\n",
    "movies.head()"
   ]
  },
  {
   "cell_type": "code",
   "execution_count": 8,
   "metadata": {},
   "outputs": [],
   "source": [
    "movies.drop(columns=['Unnamed: 0'], inplace=True)"
   ]
  },
  {
   "cell_type": "code",
   "execution_count": 9,
   "metadata": {},
   "outputs": [],
   "source": [
    "movies_links = movies[movies['article_link'] != \"-1\"]"
   ]
  },
  {
   "cell_type": "code",
   "execution_count": 10,
   "metadata": {},
   "outputs": [
    {
     "data": {
      "text/html": [
       "<div>\n",
       "<style scoped>\n",
       "    .dataframe tbody tr th:only-of-type {\n",
       "        vertical-align: middle;\n",
       "    }\n",
       "\n",
       "    .dataframe tbody tr th {\n",
       "        vertical-align: top;\n",
       "    }\n",
       "\n",
       "    .dataframe thead th {\n",
       "        text-align: right;\n",
       "    }\n",
       "</style>\n",
       "<table border=\"1\" class=\"dataframe\">\n",
       "  <thead>\n",
       "    <tr style=\"text-align: right;\">\n",
       "      <th></th>\n",
       "      <th>movie_title</th>\n",
       "      <th>article_link</th>\n",
       "      <th>text</th>\n",
       "    </tr>\n",
       "  </thead>\n",
       "  <tbody>\n",
       "    <tr>\n",
       "      <th>0</th>\n",
       "      <td>Escape Room</td>\n",
       "      <td>http://www.nytimes.com/2019/01/03/movies/escap...</td>\n",
       "      <td>testing</td>\n",
       "    </tr>\n",
       "    <tr>\n",
       "      <th>1</th>\n",
       "      <td>Rust Creek</td>\n",
       "      <td>http://www.nytimes.com/2019/01/03/movies/rust-...</td>\n",
       "      <td>testing</td>\n",
       "    </tr>\n",
       "    <tr>\n",
       "      <th>4</th>\n",
       "      <td>The Upside</td>\n",
       "      <td>http://www.nytimes.com/2019/01/09/movies/the-u...</td>\n",
       "      <td>testing</td>\n",
       "    </tr>\n",
       "    <tr>\n",
       "      <th>10</th>\n",
       "      <td>The Kid Who Would Be King</td>\n",
       "      <td>http://www.nytimes.com/2019/01/24/movies/the-k...</td>\n",
       "      <td>testing</td>\n",
       "    </tr>\n",
       "    <tr>\n",
       "      <th>11</th>\n",
       "      <td>Serenity</td>\n",
       "      <td>http://www.nytimes.com/2019/01/24/movies/seren...</td>\n",
       "      <td>testing</td>\n",
       "    </tr>\n",
       "  </tbody>\n",
       "</table>\n",
       "</div>"
      ],
      "text/plain": [
       "                  movie_title  \\\n",
       "0                 Escape Room   \n",
       "1                  Rust Creek   \n",
       "4                  The Upside   \n",
       "10  The Kid Who Would Be King   \n",
       "11                   Serenity   \n",
       "\n",
       "                                         article_link     text  \n",
       "0   http://www.nytimes.com/2019/01/03/movies/escap...  testing  \n",
       "1   http://www.nytimes.com/2019/01/03/movies/rust-...  testing  \n",
       "4   http://www.nytimes.com/2019/01/09/movies/the-u...  testing  \n",
       "10  http://www.nytimes.com/2019/01/24/movies/the-k...  testing  \n",
       "11  http://www.nytimes.com/2019/01/24/movies/seren...  testing  "
      ]
     },
     "execution_count": 10,
     "metadata": {},
     "output_type": "execute_result"
    }
   ],
   "source": [
    "movies_links.head()"
   ]
  },
  {
   "cell_type": "code",
   "execution_count": 27,
   "metadata": {},
   "outputs": [],
   "source": [
    "# iterate through the links and scrape the text\n",
    "def scrape_text(link):\n",
    "    print(link)\n",
    "    review = requests.get(link).text\n",
    "    soup = BeautifulSoup(review, 'html.parser')\n",
    "\n",
    "    body = soup.find(\"section\", {\"name\": \"articleBody\"})\n",
    "    p_tags = body.find_all(\"p\")\n",
    "\n",
    "    text = [tag.text for tag in p_tags]\n",
    "    s = ' '\n",
    "    text = s.join(text)\n",
    "    \n",
    "    return text"
   ]
  },
  {
   "cell_type": "code",
   "execution_count": 28,
   "metadata": {},
   "outputs": [
    {
     "name": "stdout",
     "output_type": "stream",
     "text": [
      "http://www.nytimes.com/2019/01/03/movies/escape-room-review.html\n",
      "http://www.nytimes.com/2019/01/03/movies/rust-creek-review.html\n",
      "http://www.nytimes.com/2019/01/09/movies/the-upside-review.html\n",
      "http://www.nytimes.com/2019/01/24/movies/the-kid-who-would-be-king-review.html\n",
      "http://www.nytimes.com/2019/01/24/movies/serenity-review.html\n",
      "http://www.nytimes.com/2019/01/31/movies/miss-bala-review.html\n",
      "http://www.nytimes.com/2019/01/30/movies/velvet-buzzsaw-review.html\n",
      "http://www.nytimes.com/2019/01/31/movies/piercing-review.html\n",
      "http://www.nytimes.com/2019/02/06/movies/the-lego-movie-two-the-second-part-review.html\n",
      "http://www.nytimes.com/2019/02/07/movies/what-men-want-review.html\n",
      "http://www.nytimes.com/2019/02/05/movies/cold-pursuit-review.html\n",
      "http://www.nytimes.com/2019/02/07/movies/high-flying-bird-review.html\n",
      "http://www.nytimes.com/2019/02/07/movies/the-prodigy-review.html\n",
      "http://www.nytimes.com/2019/02/14/movies/happy-death-day-2u-review.html\n",
      "http://www.nytimes.com/2019/02/12/movies/alita-battle-angel-review.html\n",
      "http://www.nytimes.com/2019/02/20/movies/how-to-train-your-dragon-hidden-world-review.html\n",
      "http://www.nytimes.com/2019/02/13/movies/fighting-with-my-family-review.html\n",
      "http://www.nytimes.com/2019/12/23/movies/little-women-review.html\n",
      "http://www.nytimes.com/2019/03/06/movies/triple-frontier-review.html\n",
      "http://www.nytimes.com/2019/03/05/movies/captain-marvel-review.html\n",
      "http://www.nytimes.com/2019/03/07/movies/the-kid-review.html\n",
      "http://www.nytimes.com/2019/03/14/movies/wonder-park-review.html\n",
      "http://www.nytimes.com/2019/03/14/movies/the-aftermath-review.html\n",
      "http://www.nytimes.com/2019/03/14/movies/five-feet-apart-review.html\n",
      "http://www.nytimes.com/2019/03/14/movies/the-highwaymen-review.html\n",
      "http://www.nytimes.com/2020/01/08/movies/earth-review.html\n",
      "http://www.nytimes.com/2019/03/21/movies/hotel-mumbai-review.html\n",
      "http://www.nytimes.com/2019/03/22/movies/the-dirt-review.html\n",
      "http://www.nytimes.com/2019/03/27/movies/dumbo-review.html\n",
      "http://www.nytimes.com/2019/03/27/movies/the-beach-bum-review.html\n",
      "http://www.nytimes.com/2019/04/03/movies/shazam-review.html\n",
      "http://www.nytimes.com/2019/04/04/movies/pet-sematary-review.html\n",
      "http://www.nytimes.com/2019/04/04/movies/high-life-review.html\n",
      "http://www.nytimes.com/2019/04/04/movies/the-wind-review.html\n",
      "http://www.nytimes.com/2019/05/07/movies/the-silence-of-others-review.html\n",
      "http://www.nytimes.com/2019/04/11/movies/hellboy-review.html\n",
      "http://www.nytimes.com/2020/01/15/movies/dolittle-review.html\n",
      "http://www.nytimes.com/2019/04/11/movies/missing-link-review.html\n",
      "http://www.nytimes.com/2020/01/09/movies/afterward-review.html\n",
      "http://www.nytimes.com/2019/04/10/movies/her-smell-review.html\n",
      "http://www.nytimes.com/2019/09/26/movies/jim-allison-breakthrough-review.html\n",
      "http://www.nytimes.com/2019/04/16/movies/penguins-review.html\n",
      "http://www.nytimes.com/2019/04/18/movies/the-curse-of-la-llorona-review.html\n",
      "http://www.nytimes.com/2019/04/17/movies/under-the-silver-lake-review.html\n",
      "http://www.nytimes.com/2019/12/04/movies/midnight-family-review.html\n",
      "http://www.nytimes.com/2019/04/18/movies/fast-color-review.html\n",
      "http://www.nytimes.com/2019/04/18/movies/someone-great-review.html\n",
      "http://www.nytimes.com/2019/04/23/movies/avengers-endgame-review.html\n",
      "http://www.nytimes.com/2019/04/25/movies/i-trapped-the-devil-review.html\n",
      "http://www.nytimes.com/2019/05/02/movies/long-shot-review.html\n",
      "http://www.nytimes.com/2019/05/02/movies/the-intruder-review.html\n",
      "http://www.nytimes.com/2019/05/01/movies/uglydolls-review.html\n",
      "http://www.nytimes.com/2019/05/02/movies/extremely-wicked-shockingly-evil-and-vile-review.html\n",
      "http://www.nytimes.com/2019/05/09/movies/pokemon-detective-pikachu-review.html\n",
      "http://www.nytimes.com/2019/05/09/movies/the-hustle-review.html\n",
      "http://www.nytimes.com/2019/05/09/movies/tolkien-review.html\n",
      "http://www.nytimes.com/2019/05/09/movies/poms-review.html\n",
      "http://www.nytimes.com/2019/05/15/movies/the-sun-is-also-a-star-review.html\n",
      "http://www.nytimes.com/2019/05/16/movies/the-professor-review.html\n",
      "http://www.nytimes.com/2019/05/16/movies/the-souvenir-review.html\n",
      "http://www.nytimes.com/2019/05/21/movies/the-tomorrow-man-review.html\n",
      "http://www.nytimes.com/2019/05/22/movies/aladdin-review.html\n",
      "http://www.nytimes.com/2019/05/23/movies/brightburn-review.html\n",
      "http://www.nytimes.com/2019/05/22/movies/booksmart-review.html\n",
      "http://www.nytimes.com/2019/05/24/movies/the-perfection-review.html\n",
      "http://www.nytimes.com/2019/05/29/movies/always-be-my-maybe-review.html\n",
      "http://www.nytimes.com/2019/05/28/movies/godzilla-king-of-the-monsters-review.html\n",
      "http://www.nytimes.com/2019/05/28/movies/rocketman-review.html\n",
      "http://www.nytimes.com/2020/01/16/movies/weathering-with-you-review.html\n",
      "http://www.nytimes.com/2019/06/06/movies/dark-phoneix-review.html\n",
      "http://www.nytimes.com/2019/06/05/movies/the-secret-life-of-pets-2-review.html\n",
      "http://www.nytimes.com/2019/06/05/movies/late-night-review.html\n",
      "http://www.nytimes.com/2019/06/06/movies/the-last-black-man-in-san-francisco-review.html\n",
      "http://www.nytimes.com/2019/06/12/movies/men-in-black-international-review.html\n",
      "http://www.nytimes.com/2019/06/13/movies/shaft-review.html\n",
      "http://www.nytimes.com/2019/06/14/movies/murder-mystery-review-a-whodunit-on-the-high-seas.html\n",
      "http://www.nytimes.com/2019/06/13/movies/plus-one-review.html\n",
      "http://www.nytimes.com/2019/06/13/movies/being-frank-review.html\n",
      "http://www.nytimes.com/2019/06/20/movies/toy-story-4-review.html\n",
      "http://www.nytimes.com/2019/06/24/movies/annabelle-comes-home-review.html\n",
      "http://www.nytimes.com/2019/06/26/movies/yesterday-review.html\n",
      "http://www.nytimes.com/2019/06/27/movies/ophelia-review.html\n",
      "http://www.nytimes.com/2019/06/27/movies/killers-anonymous-review.html\n",
      "http://www.nytimes.com/2019/06/27/movies/spider-man-far-from-home-review.html\n",
      "http://www.nytimes.com/2019/07/02/movies/midsommar-review.html\n",
      "http://www.nytimes.com/2019/07/10/movies/stuber-review.html\n",
      "http://www.nytimes.com/2019/07/18/movies/review-point-blank.html\n",
      "http://www.nytimes.com/2019/07/11/movies/the-farewell-review.html\n",
      "http://www.nytimes.com/2019/07/11/movies/the-lion-king-review.html\n",
      "http://www.nytimes.com/2019/12/04/movies/knives-and-skin-review.html\n",
      "http://www.nytimes.com/2019/08/01/movies/fast-and-furious-presents-hobbs-and-shaw-review.html\n",
      "http://www.nytimes.com/2019/08/01/movies/a-score-to-settle-review.html\n",
      "http://www.nytimes.com/2019/08/08/movies/dora-and-the-lost-city-of-gold-review.html\n",
      "http://www.nytimes.com/2019/08/07/movies/review-the-kitchen.html\n",
      "http://www.nytimes.com/2019/08/08/movies/the-art-of-racing-in-the-rain-review.html\n",
      "http://www.nytimes.com/2019/08/08/movies/scary-stories-to-tell-in-the-dark-review.html\n",
      "http://www.nytimes.com/2019/08/08/movies/the-peanut-butter-falcon-review.html\n",
      "http://www.nytimes.com/2019/08/08/movies/after-the-wedding-review.html\n",
      "http://www.nytimes.com/2019/08/08/movies/light-of-my-life-review.html\n",
      "http://www.nytimes.com/2019/08/13/movies/the-angry-birds-movie-2-review.html\n",
      "http://www.nytimes.com/2019/08/15/movies/blinded-by-the-light-review.html\n",
      "http://www.nytimes.com/2019/08/14/movies/good-boys-review.html\n",
      "http://www.nytimes.com/2019/08/15/movies/47-meters-down-uncaged-review.html\n",
      "http://www.nytimes.com/2019/08/20/movies/ready-or-not-review.html\n",
      "http://www.nytimes.com/2019/08/22/movies/angel-has-fallen-review.html\n",
      "http://www.nytimes.com/2019/08/22/movies/brittany-runs-a-marathon-review.html\n",
      "http://www.nytimes.com/2019/11/28/movies/the-body-remembers-when-the-world-broke-open-review.html\n",
      "http://www.nytimes.com/2019/08/28/movies/official-secrets-review.html\n",
      "http://www.nytimes.com/2019/08/29/movies/the-fanatic-review.html\n",
      "http://www.nytimes.com/2019/09/03/movies/it-chapter-two-review.html\n",
      "http://www.nytimes.com/2019/09/05/movies/satanic-panic-review.html\n",
      "http://www.nytimes.com/2019/09/11/movies/the-goldfinch-review.html\n",
      "http://www.nytimes.com/2019/09/11/movies/hustlers-review.html\n",
      "http://www.nytimes.com/2019/09/12/movies/the-sound-of-silence-review.html\n",
      "http://www.nytimes.com/2019/09/12/movies/monos-review.html\n",
      "http://www.nytimes.com/2019/09/13/movies/tall-girl-review.html\n",
      "http://www.nytimes.com/2019/09/19/movies/ad-astra-review-brad-pitt.html\n",
      "http://www.nytimes.com/2019/09/18/movies/downton-abbey-review.html\n"
     ]
    },
    {
     "name": "stdout",
     "output_type": "stream",
     "text": [
      "http://www.nytimes.com/2019/09/19/movies/rambo-last-blood-review.html\n",
      "http://www.nytimes.com/2019/09/26/movies/abominable-review.html\n",
      "http://www.nytimes.com/2019/09/25/movies/the-laundromat-review.html\n",
      "http://www.nytimes.com/2019/11/07/movies/playing-with-fire-review.html\n",
      "http://www.nytimes.com/2019/10/03/movies/joker-review.html\n",
      "http://www.nytimes.com/2019/10/03/movies/lucy-in-the-sky-review.html\n",
      "http://www.nytimes.com/2019/10/02/movies/dolemite-is-my-name-review.html\n",
      "http://www.nytimes.com/2019/10/03/movies/in-the-tall-grass-review.html\n",
      "http://www.nytimes.com/2019/10/10/movies/little-monsters-review.html\n",
      "http://www.nytimes.com/2019/10/09/movies/gemini-man-review.html\n",
      "http://www.nytimes.com/2019/10/10/movies/the-addams-family-review.html\n",
      "http://www.nytimes.com/2019/11/06/movies/the-kingmaker-review.html\n",
      "http://www.nytimes.com/2019/10/11/movies/jexi-review.html\n",
      "http://www.nytimes.com/2019/10/17/movies/maleficent-mistress-of-evil-review.html\n",
      "http://www.nytimes.com/2019/10/16/movies/zombieland-double-tap-review.html\n",
      "http://www.nytimes.com/2019/10/17/movies/jojo-rabbit-review.html\n",
      "http://www.nytimes.com/2019/10/16/movies/the-lighthouse-review.html\n",
      "http://www.nytimes.com/2019/10/17/movies/wounds-review.html\n",
      "http://www.nytimes.com/2019/10/24/movies/black-and-blue-review.html\n",
      "http://www.nytimes.com/2019/10/24/movies/the-current-war-review.html\n",
      "http://www.nytimes.com/2019/10/24/movies/the-kill-team-review.html\n",
      "http://www.nytimes.com/2019/10/24/movies/the-gallows-act-two-review.html\n",
      "http://www.nytimes.com/2019/10/30/movies/terminator-dark-fate-review.html\n",
      "http://www.nytimes.com/2019/10/31/movies/motherless-brooklyn-review.html\n",
      "http://www.nytimes.com/2019/09/27/movies/the-irishman-review.html\n",
      "http://www.nytimes.com/2019/10/31/movies/harriet-review.html\n",
      "http://www.nytimes.com/2019/11/05/movies/marriage-story-review.html\n",
      "http://www.nytimes.com/2019/11/06/movies/doctor-sleep-review.html\n",
      "http://www.nytimes.com/2019/11/06/movies/last-christmas-review.html\n",
      "http://www.nytimes.com/2019/11/07/movies/playing-with-fire-review.html\n",
      "http://www.nytimes.com/2019/11/06/movies/midway-review.html\n",
      "http://www.nytimes.com/2019/11/07/movies/klaus-review.html\n",
      "http://www.nytimes.com/2019/11/07/movies/honey-boy-review.html\n",
      "http://www.nytimes.com/2019/11/14/movies/ford-v-ferrari-review.html\n",
      "http://www.nytimes.com/2019/11/14/movies/the-good-liar-review.html\n",
      "http://www.nytimes.com/2019/11/14/movies/the-report-review.html\n",
      "http://www.nytimes.com/2019/11/14/movies/waves-review.html\n",
      "http://www.nytimes.com/2019/11/21/movies/frozen-2-review.html\n",
      "http://www.nytimes.com/2019/11/21/movies/a-beautiful-day-in-the-neighborhood-review.html\n",
      "http://www.nytimes.com/2019/11/21/movies/21-bridges-review.html\n",
      "http://www.nytimes.com/2019/11/21/movies/dark-waters-review.html\n",
      "http://www.nytimes.com/2019/11/26/movies/knives-out-review.html\n",
      "http://www.nytimes.com/2019/11/26/movies/queen-and-slim-review.html\n",
      "http://www.nytimes.com/2019/11/26/movies/the-two-popes-review.html\n",
      "http://www.nytimes.com/2019/12/05/movies/the-aeronauts-review.html\n",
      "http://www.nytimes.com/2019/12/05/movies/a-million-little-pieces-review.html\n",
      "http://www.nytimes.com/2019/12/12/movies/jumanji-the-next-level-review.html\n",
      "http://www.nytimes.com/2019/12/12/movies/richard-jewell-review.html\n",
      "http://www.nytimes.com/2019/12/12/movies/black-christmas-review.html\n",
      "http://www.nytimes.com/2019/12/13/movies/6-underground-review.html\n",
      "http://www.nytimes.com/2019/12/12/movies/bombshell-review.html\n",
      "http://www.nytimes.com/2019/12/12/movies/uncut-gems-review.html\n",
      "http://www.nytimes.com/2019/12/12/movies/seberg-review-kristen-stewart.html\n",
      "http://www.nytimes.com/2019/12/12/movies/a-hidden-life-review.html\n",
      "http://www.nytimes.com/2019/12/18/movies/star-wars-the-rise-of-skywalker-review.html\n",
      "http://www.nytimes.com/2019/12/18/movies/cats-review.html\n",
      "http://www.nytimes.com/2019/12/24/movies/spies-in-disguise-review.html\n",
      "http://www.nytimes.com/2019/12/23/movies/little-women-review.html\n",
      "http://www.nytimes.com/2019/12/24/movies/1917-review.html\n"
     ]
    },
    {
     "name": "stderr",
     "output_type": "stream",
     "text": [
      "/Users/pratyushsingh/anaconda3/lib/python3.6/site-packages/ipykernel_launcher.py:1: SettingWithCopyWarning: \n",
      "A value is trying to be set on a copy of a slice from a DataFrame.\n",
      "Try using .loc[row_indexer,col_indexer] = value instead\n",
      "\n",
      "See the caveats in the documentation: http://pandas.pydata.org/pandas-docs/stable/indexing.html#indexing-view-versus-copy\n",
      "  \"\"\"Entry point for launching an IPython kernel.\n"
     ]
    }
   ],
   "source": [
    "movies_links['text'] = movies_links['article_link'].apply(lambda x: scrape_text(x))"
   ]
  },
  {
   "cell_type": "code",
   "execution_count": 29,
   "metadata": {},
   "outputs": [
    {
     "data": {
      "text/html": [
       "<div>\n",
       "<style scoped>\n",
       "    .dataframe tbody tr th:only-of-type {\n",
       "        vertical-align: middle;\n",
       "    }\n",
       "\n",
       "    .dataframe tbody tr th {\n",
       "        vertical-align: top;\n",
       "    }\n",
       "\n",
       "    .dataframe thead th {\n",
       "        text-align: right;\n",
       "    }\n",
       "</style>\n",
       "<table border=\"1\" class=\"dataframe\">\n",
       "  <thead>\n",
       "    <tr style=\"text-align: right;\">\n",
       "      <th></th>\n",
       "      <th>movie_title</th>\n",
       "      <th>article_link</th>\n",
       "      <th>text</th>\n",
       "    </tr>\n",
       "  </thead>\n",
       "  <tbody>\n",
       "    <tr>\n",
       "      <th>0</th>\n",
       "      <td>Escape Room</td>\n",
       "      <td>http://www.nytimes.com/2019/01/03/movies/escap...</td>\n",
       "      <td>I tend to esteem motion pictures more for thei...</td>\n",
       "    </tr>\n",
       "    <tr>\n",
       "      <th>1</th>\n",
       "      <td>Rust Creek</td>\n",
       "      <td>http://www.nytimes.com/2019/01/03/movies/rust-...</td>\n",
       "      <td>When horror movies head for the woods, their t...</td>\n",
       "    </tr>\n",
       "    <tr>\n",
       "      <th>4</th>\n",
       "      <td>The Upside</td>\n",
       "      <td>http://www.nytimes.com/2019/01/09/movies/the-u...</td>\n",
       "      <td>What a difference a cast makes. If the directo...</td>\n",
       "    </tr>\n",
       "    <tr>\n",
       "      <th>10</th>\n",
       "      <td>The Kid Who Would Be King</td>\n",
       "      <td>http://www.nytimes.com/2019/01/24/movies/the-k...</td>\n",
       "      <td>In 2011, the British writer-comedian Joe Corni...</td>\n",
       "    </tr>\n",
       "    <tr>\n",
       "      <th>11</th>\n",
       "      <td>Serenity</td>\n",
       "      <td>http://www.nytimes.com/2019/01/24/movies/seren...</td>\n",
       "      <td>I’m no actor, but I’d like to think if a scrip...</td>\n",
       "    </tr>\n",
       "  </tbody>\n",
       "</table>\n",
       "</div>"
      ],
      "text/plain": [
       "                  movie_title  \\\n",
       "0                 Escape Room   \n",
       "1                  Rust Creek   \n",
       "4                  The Upside   \n",
       "10  The Kid Who Would Be King   \n",
       "11                   Serenity   \n",
       "\n",
       "                                         article_link  \\\n",
       "0   http://www.nytimes.com/2019/01/03/movies/escap...   \n",
       "1   http://www.nytimes.com/2019/01/03/movies/rust-...   \n",
       "4   http://www.nytimes.com/2019/01/09/movies/the-u...   \n",
       "10  http://www.nytimes.com/2019/01/24/movies/the-k...   \n",
       "11  http://www.nytimes.com/2019/01/24/movies/seren...   \n",
       "\n",
       "                                                 text  \n",
       "0   I tend to esteem motion pictures more for thei...  \n",
       "1   When horror movies head for the woods, their t...  \n",
       "4   What a difference a cast makes. If the directo...  \n",
       "10  In 2011, the British writer-comedian Joe Corni...  \n",
       "11  I’m no actor, but I’d like to think if a scrip...  "
      ]
     },
     "execution_count": 29,
     "metadata": {},
     "output_type": "execute_result"
    }
   ],
   "source": [
    "movies_links.head()"
   ]
  },
  {
   "cell_type": "code",
   "execution_count": 30,
   "metadata": {},
   "outputs": [],
   "source": [
    "movies_links.to_csv('movies_text.csv')"
   ]
  },
  {
   "cell_type": "markdown",
   "metadata": {},
   "source": [
    "## Begin the Text Summarization Process"
   ]
  },
  {
   "cell_type": "code",
   "execution_count": 32,
   "metadata": {},
   "outputs": [],
   "source": [
    "movies = pd.read_csv('movies_text.csv')\n",
    "reviews = movies['text']"
   ]
  },
  {
   "cell_type": "code",
   "execution_count": 47,
   "metadata": {},
   "outputs": [],
   "source": [
    "import string\n",
    "import nltk\n",
    "from nltk.corpus import stopwords\n",
    "from nltk.stem import PorterStemmer"
   ]
  },
  {
   "cell_type": "code",
   "execution_count": 128,
   "metadata": {},
   "outputs": [],
   "source": [
    "# 1) remove the stopwords\n",
    "# 2) stem the words\n",
    "# 3) make a frequency table \n",
    "\n",
    "def preprocess(review):\n",
    "    stop_words = set(stopwords.words('english'))\n",
    "    words = nltk.word_tokenize(review)    \n",
    "    # stemmer = PorterStemmer()\n",
    "    \n",
    "    word_frequency = {}\n",
    "    \n",
    "    for word in words:\n",
    "        word = word.lower()\n",
    "        # word_stemmed = stemmer.stem(word)\n",
    "        \n",
    "        if word not in stop_words and word not in string.punctuation:\n",
    "            if word in word_frequency.keys():\n",
    "                word_frequency[word] = word_frequency[word] + 1\n",
    "            else:\n",
    "                word_frequency[word] = 1\n",
    "    \n",
    "    word_frequency = _normalize_table(word_frequency)\n",
    "    \n",
    "    return word_frequency\n",
    "\n",
    "\n",
    "def _normalize_table(word_frequency):\n",
    "    max_frequency = max(word_frequency.values())\n",
    "    \n",
    "    for word, freq in word_frequency.items():\n",
    "        normalized_freq = round(freq / max_frequency, 2)\n",
    "        word_frequency[word] = normalized_freq\n",
    "    \n",
    "    return word_frequency"
   ]
  },
  {
   "cell_type": "code",
   "execution_count": 117,
   "metadata": {},
   "outputs": [],
   "source": [
    "def sentence_weight(review, word_frequency):\n",
    "    sentence_scores = {}\n",
    "    for sentence in nltk.sent_tokenize(review):\n",
    "        for word in nltk.word_tokenize(sentence):\n",
    "            if word in word_frequency.keys():\n",
    "                if sentence in sentence_scores.keys():\n",
    "                    sentence_scores[sentence] += word_frequency[word]\n",
    "                else:\n",
    "                    sentence_scores[sentence] = word_frequency[word]\n",
    "    \n",
    "    return sentence_scores"
   ]
  },
  {
   "cell_type": "code",
   "execution_count": 120,
   "metadata": {},
   "outputs": [],
   "source": [
    "# sort the sentence weights, and I only want the top two sentences.\n",
    "import heapq\n",
    "\n",
    "def summarizer(review):\n",
    "    word_frequency = preprocess(review)\n",
    "    sentence_scores = sentence_weight(review, word_frequency)\n",
    "    top_two_sentences = heapq.nlargest(2, sentence_scores, key=sentence_scores.get)\n",
    "    \n",
    "    s = ' '\n",
    "    s = s.join(top_two_sentences)\n",
    "    \n",
    "    return s"
   ]
  },
  {
   "cell_type": "code",
   "execution_count": 130,
   "metadata": {},
   "outputs": [],
   "source": [
    "words_freq = preprocess(movies[movies['movie_title'] == 'Uncut Gems']['text'].values[0])"
   ]
  },
  {
   "cell_type": "code",
   "execution_count": 133,
   "metadata": {},
   "outputs": [
    {
     "data": {
      "text/plain": [
       "['’',\n",
       " 'howard',\n",
       " '—',\n",
       " 'safdies',\n",
       " '“',\n",
       " '”',\n",
       " 'like',\n",
       " 'uncut',\n",
       " 'gems',\n",
       " 'sandler',\n",
       " 'man',\n",
       " 'one',\n",
       " 'stop',\n",
       " 'two',\n",
       " 'working',\n",
       " 'much',\n",
       " 'life',\n",
       " 'movie',\n",
       " 'men',\n",
       " 'lots',\n",
       " 'though',\n",
       " 'opal',\n",
       " 'garnett',\n",
       " 'world',\n",
       " 'feeling',\n",
       " 'bad',\n",
       " 'gambler',\n",
       " 'makes',\n",
       " 'also',\n",
       " 'seem',\n",
       " 'enough',\n",
       " 'love',\n",
       " 'stuff',\n",
       " 'amid',\n",
       " 'happens',\n",
       " 'bedlam',\n",
       " 'shooting',\n",
       " 'almost',\n",
       " 'ethiopia',\n",
       " 'around',\n",
       " 'pointless',\n",
       " 'opener',\n",
       " 'echoes',\n",
       " 'exorcist',\n",
       " 'dig',\n",
       " 'relic',\n",
       " 'possession',\n",
       " 'plans',\n",
       " 'short',\n",
       " 'minutes']"
      ]
     },
     "execution_count": 133,
     "metadata": {},
     "output_type": "execute_result"
    }
   ],
   "source": [
    "import heapq\n",
    "\n",
    "sorted_word_weights = heapq.nlargest(50, words_freq, key=words_freq.get)\n",
    "\n",
    "sorted_word_weights"
   ]
  },
  {
   "cell_type": "code",
   "execution_count": 100,
   "metadata": {},
   "outputs": [],
   "source": [
    "movies['review_summary'] = movies['text'].apply(lambda review: summarizer(review)) "
   ]
  },
  {
   "cell_type": "code",
   "execution_count": 105,
   "metadata": {},
   "outputs": [],
   "source": [
    "movies.to_csv('movies_with_reviews.csv')"
   ]
  },
  {
   "cell_type": "code",
   "execution_count": 106,
   "metadata": {},
   "outputs": [
    {
     "data": {
      "text/plain": [
       "0      There are intimations of “Tales From the Crypt...\n",
       "1      Well-acted and technically sound (Michelle Law...\n",
       "2      If the director Neil Burger’s decision to have...\n",
       "3      It’s taken eight years for Cornish to release ...\n",
       "4      It’s also possible that he read the script — w...\n",
       "5      Directed by Catherine Hardwicke (“Thirteen,” “...\n",
       "6      Gyllenhaal and Russo also starred in Gilroy’s ...\n",
       "7      A grisly comedic thriller written and directed...\n",
       "8      In this respect, this sales pitch fits in with...\n",
       "9      Part of the message, of course, is that it doe...\n",
       "10     After members of one of these outfits inject N...\n",
       "11     On a basketball court, “give me the rock” mean...\n",
       "12     If this isn’t evidence enough of Miles’ bad-se...\n",
       "13     But the film is overstuffed with unfunny self-...\n",
       "14     Some of this crash-boom stuff takes place duri...\n",
       "15     As the movie opens, Berk is, in Hiccup’s estim...\n",
       "16     Even when the jokes are as blunt as the bowlin...\n",
       "17     “Christmas won’t be Christmas without any pres...\n",
       "18     That’s the case even when the other unsurprisi...\n",
       "19     Instead, she picks up a VHS box of “The Right ...\n",
       "20     Primed by the boy’s affectless narration (here...\n",
       "21     She’s developed her talent through conversatio...\n",
       "22     While the cinematographer, Franz Lustig, conju...\n",
       "23     Richardson, previously wonderful with good mat...\n",
       "24     This isn’t an especially good movie — it’s too...\n",
       "25     “Without major catastrophes like an enormous v...\n",
       "26     Like “United 93,” “Hotel Mumbai” begins from t...\n",
       "27     But Tremaine and the screenwriters Rich Wilkes...\n",
       "28     But “Dumbo” is among the seemingly endless num...\n",
       "29     There is some other fun stuff, too — beautiful...\n",
       "                             ...                        \n",
       "147    It’s an unchallenging movie, but as far as unc...\n",
       "148    Tora!” and the 1976 “Midway”) that — unlike, s...\n",
       "149    The backgrounds and character design at the po...\n",
       "150    The movie makes a point of showing him strikin...\n",
       "151    The chalk-and-cheese friendship between Carrol...\n",
       "152    Unfortunately, the director, Bill Condon, whos...\n",
       "153    In his vibrant screenplays for Steven Soderber...\n",
       "154    But now, in the aftermath of the family’s trau...\n",
       "155    As before, the songs by Kristen Anderson-Lopez...\n",
       "156    But unlike “Won’t You Be My Neighbor,” Morgan ...\n",
       "157    It’s a big, blunt, battering ram of a movie, b...\n",
       "158    In that film, there is finally no immunity fro...\n",
       "159    Someone clearly had a good time coming up with...\n",
       "160    The answers are sometimes comical — Slim’s att...\n",
       "161    Directed by Fernando Meirelles (“City of God,”...\n",
       "162    At one point — in the film’s most terrifying s...\n",
       "163    “I’ve lived through some terrible things in my...\n",
       "164    They are joined by Eddie, Spencer’s crotchety ...\n",
       "165    Though he acts bravely and responsibly at a mo...\n",
       "166    They might also ponder that they are now force...\n",
       "167    “6 Underground,” the budget of which could pro...\n",
       "168    She is the network’s biggest female star and s...\n",
       "169    They’re not interested in the dumb, easy stuff...\n",
       "170    Late in the movie, there’s one long, perfect s...\n",
       "171    The film is divided between Franz’s and Franzi...\n",
       "172    Not that anybody has asked, but if I had to co...\n",
       "173    (Nunn’s inspiration was Eliot’s beautiful “Rha...\n",
       "174    Will Smith voices an “is there anything he can...\n",
       "175    “Christmas won’t be Christmas without any pres...\n",
       "176    The modest difference in attitude between the ...\n",
       "Name: review_summary, Length: 177, dtype: object"
      ]
     },
     "execution_count": 106,
     "metadata": {},
     "output_type": "execute_result"
    }
   ],
   "source": [
    "movies['review_summary']"
   ]
  },
  {
   "cell_type": "code",
   "execution_count": 69,
   "metadata": {},
   "outputs": [],
   "source": [
    "word_frequency = preprocess(movies_links.iloc[0]['text'])\n",
    "sentence_scores = sentence_weight(movies_links.iloc[0]['text'], word_frequency)"
   ]
  },
  {
   "cell_type": "code",
   "execution_count": 70,
   "metadata": {},
   "outputs": [
    {
     "data": {
      "text/plain": [
       "{'I tend to esteem motion pictures more for their aesthetic value than for their use value but sometimes there are exceptions.': 1.7000000000000002,\n",
       " 'Through scrupulous and heightened simulations of terrifying reality, last year’s “First Man” reminded me why I never even entertained the notion of becoming an astronaut.': 5.249999999999998,\n",
       " 'Taking the opposite tack with an irrational but not altogether implausible conceit, “Escape Room” reminds me why I’ll never engage in the newfangled form of entertainment in which you allow yourself to be “trapped” in a room and puzzle-solve your way out of it.': 7.829999999999998,\n",
       " 'The conceit is that this movie’s game masters absolutely intend to kill the six invitees who at first find themselves in a waiting area that turns into a people-cooking oven.': 3.6900000000000013,\n",
       " 'The players, mostly adult but still “Breakfast Club”-ish, include a female war veteran, an overachieving but friendless collegian, a dirtbag grocery stock boy and a too-pragmatic finance guy.': 4.66,\n",
       " 'The screenwriters Bragi F. Schut and Maria Melnik and the director Adam Robitel steer this not-all-that-intriguing crew through a series of challenges, in spaces that the production designer Edward Thomas clearly enjoyed putting together.': 1.9600000000000009,\n",
       " '(The upside-down bar is particularly gnarly, especially once the ceiling panels start dropping out.)': 1.4100000000000001,\n",
       " 'The puzzles aren’t constructed in a way that gives the viewers any sort of whack at them; we merely watch as the characters solve or don’t solve them, then start dying for real.': 4.120000000000001,\n",
       " 'There are intimations of “Tales From the Crypt,” “Final Destination,” “The Game,” and other older, better films here; this movie never catches a fire like any of those did, and even its twist coda feels dreary and pro forma.': 9.110000000000001,\n",
       " 'But the movie is keeping me even further away from real-life escape rooms than I already had been.': 1.8500000000000005}"
      ]
     },
     "execution_count": 70,
     "metadata": {},
     "output_type": "execute_result"
    }
   ],
   "source": [
    "sentence_scores"
   ]
  },
  {
   "cell_type": "code",
   "execution_count": 73,
   "metadata": {},
   "outputs": [],
   "source": [
    "import heapq\n",
    "\n",
    "sorted_ = heapq.nlargest(2, sentence_scores, key=sentence_scores.get)"
   ]
  },
  {
   "cell_type": "code",
   "execution_count": 74,
   "metadata": {},
   "outputs": [
    {
     "data": {
      "text/plain": [
       "['There are intimations of “Tales From the Crypt,” “Final Destination,” “The Game,” and other older, better films here; this movie never catches a fire like any of those did, and even its twist coda feels dreary and pro forma.',\n",
       " 'Taking the opposite tack with an irrational but not altogether implausible conceit, “Escape Room” reminds me why I’ll never engage in the newfangled form of entertainment in which you allow yourself to be “trapped” in a room and puzzle-solve your way out of it.']"
      ]
     },
     "execution_count": 74,
     "metadata": {},
     "output_type": "execute_result"
    }
   ],
   "source": [
    "sorted_"
   ]
  },
  {
   "cell_type": "code",
   "execution_count": 76,
   "metadata": {},
   "outputs": [
    {
     "data": {
      "text/plain": [
       "'http://www.nytimes.com/2019/01/03/movies/escape-room-review.html'"
      ]
     },
     "execution_count": 76,
     "metadata": {},
     "output_type": "execute_result"
    }
   ],
   "source": [
    "movies_links.iloc[0]['article_link']"
   ]
  },
  {
   "cell_type": "markdown",
   "metadata": {},
   "source": [
    "#### Formatting the Movie CSV"
   ]
  },
  {
   "cell_type": "code",
   "execution_count": 110,
   "metadata": {},
   "outputs": [
    {
     "data": {
      "text/html": [
       "<div>\n",
       "<style scoped>\n",
       "    .dataframe tbody tr th:only-of-type {\n",
       "        vertical-align: middle;\n",
       "    }\n",
       "\n",
       "    .dataframe tbody tr th {\n",
       "        vertical-align: top;\n",
       "    }\n",
       "\n",
       "    .dataframe thead th {\n",
       "        text-align: right;\n",
       "    }\n",
       "</style>\n",
       "<table border=\"1\" class=\"dataframe\">\n",
       "  <thead>\n",
       "    <tr style=\"text-align: right;\">\n",
       "      <th></th>\n",
       "      <th>Unnamed: 0</th>\n",
       "      <th>Unnamed: 0.1</th>\n",
       "      <th>movie_title</th>\n",
       "      <th>article_link</th>\n",
       "      <th>text</th>\n",
       "      <th>review_summary</th>\n",
       "    </tr>\n",
       "  </thead>\n",
       "  <tbody>\n",
       "    <tr>\n",
       "      <th>0</th>\n",
       "      <td>0</td>\n",
       "      <td>0</td>\n",
       "      <td>Escape Room</td>\n",
       "      <td>http://www.nytimes.com/2019/01/03/movies/escap...</td>\n",
       "      <td>I tend to esteem motion pictures more for thei...</td>\n",
       "      <td>There are intimations of “Tales From the Crypt...</td>\n",
       "    </tr>\n",
       "    <tr>\n",
       "      <th>1</th>\n",
       "      <td>1</td>\n",
       "      <td>1</td>\n",
       "      <td>Rust Creek</td>\n",
       "      <td>http://www.nytimes.com/2019/01/03/movies/rust-...</td>\n",
       "      <td>When horror movies head for the woods, their t...</td>\n",
       "      <td>Well-acted and technically sound (Michelle Law...</td>\n",
       "    </tr>\n",
       "    <tr>\n",
       "      <th>2</th>\n",
       "      <td>2</td>\n",
       "      <td>4</td>\n",
       "      <td>The Upside</td>\n",
       "      <td>http://www.nytimes.com/2019/01/09/movies/the-u...</td>\n",
       "      <td>What a difference a cast makes. If the directo...</td>\n",
       "      <td>If the director Neil Burger’s decision to have...</td>\n",
       "    </tr>\n",
       "    <tr>\n",
       "      <th>3</th>\n",
       "      <td>3</td>\n",
       "      <td>10</td>\n",
       "      <td>The Kid Who Would Be King</td>\n",
       "      <td>http://www.nytimes.com/2019/01/24/movies/the-k...</td>\n",
       "      <td>In 2011, the British writer-comedian Joe Corni...</td>\n",
       "      <td>It’s taken eight years for Cornish to release ...</td>\n",
       "    </tr>\n",
       "    <tr>\n",
       "      <th>4</th>\n",
       "      <td>4</td>\n",
       "      <td>11</td>\n",
       "      <td>Serenity</td>\n",
       "      <td>http://www.nytimes.com/2019/01/24/movies/seren...</td>\n",
       "      <td>I’m no actor, but I’d like to think if a scrip...</td>\n",
       "      <td>It’s also possible that he read the script — w...</td>\n",
       "    </tr>\n",
       "  </tbody>\n",
       "</table>\n",
       "</div>"
      ],
      "text/plain": [
       "   Unnamed: 0  Unnamed: 0.1                movie_title  \\\n",
       "0           0             0                Escape Room   \n",
       "1           1             1                 Rust Creek   \n",
       "2           2             4                 The Upside   \n",
       "3           3            10  The Kid Who Would Be King   \n",
       "4           4            11                   Serenity   \n",
       "\n",
       "                                        article_link  \\\n",
       "0  http://www.nytimes.com/2019/01/03/movies/escap...   \n",
       "1  http://www.nytimes.com/2019/01/03/movies/rust-...   \n",
       "2  http://www.nytimes.com/2019/01/09/movies/the-u...   \n",
       "3  http://www.nytimes.com/2019/01/24/movies/the-k...   \n",
       "4  http://www.nytimes.com/2019/01/24/movies/seren...   \n",
       "\n",
       "                                                text  \\\n",
       "0  I tend to esteem motion pictures more for thei...   \n",
       "1  When horror movies head for the woods, their t...   \n",
       "2  What a difference a cast makes. If the directo...   \n",
       "3  In 2011, the British writer-comedian Joe Corni...   \n",
       "4  I’m no actor, but I’d like to think if a scrip...   \n",
       "\n",
       "                                      review_summary  \n",
       "0  There are intimations of “Tales From the Crypt...  \n",
       "1  Well-acted and technically sound (Michelle Law...  \n",
       "2  If the director Neil Burger’s decision to have...  \n",
       "3  It’s taken eight years for Cornish to release ...  \n",
       "4  It’s also possible that he read the script — w...  "
      ]
     },
     "execution_count": 110,
     "metadata": {},
     "output_type": "execute_result"
    }
   ],
   "source": [
    "movies_with_review = pd.read_csv('movies_with_reviews.csv')\n",
    "movies_with_review.head()"
   ]
  },
  {
   "cell_type": "code",
   "execution_count": 111,
   "metadata": {},
   "outputs": [
    {
     "data": {
      "text/plain": [
       "Index(['Unnamed: 0', 'Unnamed: 0.1', 'movie_title', 'article_link', 'text',\n",
       "       'review_summary'],\n",
       "      dtype='object')"
      ]
     },
     "execution_count": 111,
     "metadata": {},
     "output_type": "execute_result"
    }
   ],
   "source": [
    "movies_with_review.columns"
   ]
  },
  {
   "cell_type": "code",
   "execution_count": 113,
   "metadata": {},
   "outputs": [],
   "source": [
    "movies_with_review.drop(['Unnamed: 0', 'Unnamed: 0.1'], inplace=True, axis=1)"
   ]
  },
  {
   "cell_type": "code",
   "execution_count": 115,
   "metadata": {},
   "outputs": [],
   "source": [
    "movies_with_review.to_csv('movies_final.csv', index=False)"
   ]
  },
  {
   "cell_type": "code",
   "execution_count": null,
   "metadata": {},
   "outputs": [],
   "source": []
  }
 ],
 "metadata": {
  "kernelspec": {
   "display_name": "Python 3",
   "language": "python",
   "name": "python3"
  },
  "language_info": {
   "codemirror_mode": {
    "name": "ipython",
    "version": 3
   },
   "file_extension": ".py",
   "mimetype": "text/x-python",
   "name": "python",
   "nbconvert_exporter": "python",
   "pygments_lexer": "ipython3",
   "version": "3.6.8"
  }
 },
 "nbformat": 4,
 "nbformat_minor": 2
}
